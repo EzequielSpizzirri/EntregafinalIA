{
  "nbformat": 4,
  "nbformat_minor": 0,
  "metadata": {
    "colab": {
      "provenance": [],
      "authorship_tag": "ABX9TyMkhTkov+NGyxQdfNeAvtb7",
      "include_colab_link": true
    },
    "kernelspec": {
      "name": "python3",
      "display_name": "Python 3"
    },
    "language_info": {
      "name": "python"
    }
  },
  "cells": [
    {
      "cell_type": "markdown",
      "metadata": {
        "id": "view-in-github",
        "colab_type": "text"
      },
      "source": [
        "<a href=\"https://colab.research.google.com/github/EzequielSpizzirri/EntregafinalIA/blob/main/EntregaFinal.ipynb\" target=\"_parent\"><img src=\"https://colab.research.google.com/assets/colab-badge.svg\" alt=\"Open In Colab\"/></a>"
      ]
    },
    {
      "cell_type": "code",
      "execution_count": null,
      "metadata": {
        "id": "6uH9zvlzfxnm"
      },
      "outputs": [],
      "source": [
        "!pip install -U -q google-generativeai # Install the Python SDK"
      ]
    },
    {
      "cell_type": "code",
      "source": [
        "import google.generativeai as genai"
      ],
      "metadata": {
        "id": "xmnEFCzkaVlN"
      },
      "execution_count": null,
      "outputs": []
    },
    {
      "cell_type": "code",
      "source": [
        "from google.colab import userdata\n",
        "GOOGLE_API_KEY=userdata.get('GOOGLE_API_KEY')\n",
        "genai.configure(api_key=GOOGLE_API_KEY)"
      ],
      "metadata": {
        "id": "1HrANEvzf3nE"
      },
      "execution_count": null,
      "outputs": []
    },
    {
      "cell_type": "code",
      "source": [
        "#Make the context of our prompt envoirement\n",
        "context = \"Somos un restaurante que se dedica a la venta de pizzas artesanales, ofreciendo una variedad de sabores y estilos que satisfacen los gustos más exigentes. Nos especializamos en ingredientes frescos y de alta calidad, con un servicio rápido y amable para que disfrutes de la mejor experiencia en cada pedido.\"\n",
        "\n",
        "#prompt (text/user's question)\n",
        "prompt = \"\"\"\n",
        " \"¿Cuál es el horario de atención?\",\n",
        " \"¿A qué se dedican?\",\n",
        "    \"Estoy interesado en saber el horario de atención de su sucursal.\",\n",
        "    \"Para un cliente que necesita saber cuándo está abierta su sucursal, ¿cuál es el horario de atención?\"\n",
        "\"\"\""
      ],
      "metadata": {
        "id": "7goMui40f4Dm"
      },
      "execution_count": null,
      "outputs": []
    },
    {
      "cell_type": "code",
      "source": [
        "conversation = [\n",
        "    {\"role\": \"system\", \"content\": context},\n",
        "    {\"role\": \"user\", \"content\": prompt}\n",
        "]\n",
        "# Create the model\n",
        "generation_config = {\n",
        "  \"temperature\": 0.1,\n",
        "  \"top_p\": 0.95,\n",
        "  \"top_k\": 64,\n",
        "  \"max_output_tokens\": 1000,\n",
        "  \"response_mime_type\": \"text/plain\",\n",
        "}\n",
        "\n",
        "model = genai.GenerativeModel(\n",
        "  model_name=\"gemini-1.5-pro\",\n",
        "  generation_config=generation_config,\n",
        "  # safety_settings = Adjust safety settings\n",
        "  # See https://ai.google.dev/gemini-api/docs/safety-settings\n",
        "  system_instruction = \"\"\"\n",
        "Optimización de la Atención al Cliente mediante un Sistema de IA:\n",
        "\n",
        "1. Proporcionar información precisa y actualizada sobre horarios de atención, dirección de la sucursal y números de contacto.\n",
        "   - Horarios de atención: Lunes a viernes, de 9:00 a 18:00.\n",
        "   - Dirección: Calle Ejemplo 123, Ciudad Ejemplo.\n",
        "   - Número de atención al cliente: +123 456 7890.\n",
        "\n",
        "2. Ofrecer respuestas rápidas y claras a las preguntas frecuentes sobre productos, servicios y procedimientos.\n",
        "\n",
        "3. Derivar consultas específicas a un agente humano si es necesario, especialmente en casos de emergencia o situaciones complejas.\n",
        "\n",
        "4. Asegurarse de que la información proporcionada sea coherente y que los usuarios reciban un trato amable y profesional.\n",
        "\n",
        "5. Recordar detalles y preferencias del cliente cuando sea relevante para mejorar la experiencia del usuario.\n",
        "\n",
        "6. Proporcionar opciones de autoayuda, como enlaces a tutoriales, guías y preguntas frecuentes cuando corresponda.\n",
        "\n",
        "El objetivo es mejorar la experiencia del cliente, ofrecer un servicio eficiente y reducir los tiempos de espera, todo mientras se mantiene la calidad y la cordialidad en las interacciones.\n",
        "\"\"\"\n",
        ")\n"
      ],
      "metadata": {
        "id": "MuGJ4RPjf4A0"
      },
      "execution_count": null,
      "outputs": []
    },
    {
      "cell_type": "code",
      "source": [
        "history_chat = []"
      ],
      "metadata": {
        "id": "otR9gaZjgKu0"
      },
      "execution_count": null,
      "outputs": []
    },
    {
      "cell_type": "code",
      "source": [
        "def chat():\n",
        "  chat_session = model.start_chat(history=history_chat)\n",
        "\n",
        "  while True:\n",
        "    user_message = input(\"Tu: \")\n",
        "\n",
        "    if user_message.lower() == \"salir\": # Salir del chat\n",
        "      break\n",
        "\n",
        "    response = chat_session.send_message(user_message)\n",
        "\n",
        "    print(response.text)\n",
        "\n",
        "    history_chat.append({'role': 'user', 'parts': [user_message]})\n",
        "    history_chat.append({'role': 'model', 'parts': [response.text]})"
      ],
      "metadata": {
        "id": "RS1y9PrIgAL_"
      },
      "execution_count": null,
      "outputs": []
    },
    {
      "cell_type": "code",
      "source": [
        "chat()"
      ],
      "metadata": {
        "id": "eMZRtdGfgE6f"
      },
      "execution_count": null,
      "outputs": []
    }
  ]
}