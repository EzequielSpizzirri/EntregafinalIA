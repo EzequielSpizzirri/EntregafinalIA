{
  "nbformat": 4,
  "nbformat_minor": 0,
  "metadata": {
    "colab": {
      "provenance": [],
      "authorship_tag": "ABX9TyMvcZ2sTOmqCZDz+YSkkXll",
      "include_colab_link": true
    },
    "kernelspec": {
      "name": "python3",
      "display_name": "Python 3"
    },
    "language_info": {
      "name": "python"
    }
  },
  "cells": [
    {
      "cell_type": "markdown",
      "metadata": {
        "id": "view-in-github",
        "colab_type": "text"
      },
      "source": [
        "<a href=\"https://colab.research.google.com/github/EzequielSpizzirri/EntregafinalIA/blob/main/EntregaFinal.ipynb\" target=\"_parent\"><img src=\"https://colab.research.google.com/assets/colab-badge.svg\" alt=\"Open In Colab\"/></a>"
      ]
    },
    {
      "cell_type": "code",
      "execution_count": null,
      "metadata": {
        "id": "6uH9zvlzfxnm"
      },
      "outputs": [],
      "source": [
        "!pip install -U -q google-generativeai # Install the Python SDK"
      ]
    },
    {
      "cell_type": "code",
      "source": [
        "import google.generativeai as genai"
      ],
      "metadata": {
        "id": "xmnEFCzkaVlN"
      },
      "execution_count": null,
      "outputs": []
    },
    {
      "cell_type": "code",
      "source": [
        "from google.colab import userdata\n",
        "GOOGLE_API_KEY=userdata.get('GOOGLE_API_KEY')\n",
        "genai.configure(api_key=GOOGLE_API_KEY)"
      ],
      "metadata": {
        "id": "1HrANEvzf3nE"
      },
      "execution_count": null,
      "outputs": []
    },
    {
      "cell_type": "code",
      "source": [
        "#Make the context of our prompt envoirement\n",
        "context = 'Mejora de la Atención al Cliente'\n",
        "\n",
        "#prompt (text/user's question)\n",
        "prompt = \"\"\"\n",
        " \"¿Cuál es el horario de atención?\",\n",
        "    \"Estoy interesado en saber el horario de atención de su sucursal.\",\n",
        "    \"Para un cliente que necesita saber cuándo está abierta su sucursal, ¿cuál es el horario de atención?\"\n",
        "\"\"\""
      ],
      "metadata": {
        "id": "7goMui40f4Dm"
      },
      "execution_count": null,
      "outputs": []
    },
    {
      "cell_type": "code",
      "source": [
        "conversation = [\n",
        "    {\"role\": \"system\", \"content\": context},\n",
        "    {\"role\": \"user\", \"content\": prompt}\n",
        "]\n",
        "# Create the model\n",
        "generation_config = {\n",
        "  \"temperature\": 0.1,\n",
        "  \"top_p\": 0.95,\n",
        "  \"top_k\": 64,\n",
        "  \"max_output_tokens\": 1000,\n",
        "  \"response_mime_type\": \"text/plain\",\n",
        "}\n",
        "\n",
        "model = genai.GenerativeModel(\n",
        "  model_name=\"gemini-1.5-pro\",\n",
        "  generation_config=generation_config,\n",
        "  # safety_settings = Adjust safety settings\n",
        "  # See https://ai.google.dev/gemini-api/docs/safety-settings\n",
        "  system_instruction = \"\"\"\n",
        "Optimización de la Atención al Cliente mediante un Sistema de IA:\n",
        "\n",
        "1. Proporcionar información precisa y actualizada sobre horarios de atención, dirección de la sucursal y números de contacto.\n",
        "   - Horarios de atención: Lunes a viernes, de 9:00 a 18:00.\n",
        "   - Dirección: Calle Ejemplo 123, Ciudad Ejemplo.\n",
        "   - Número de atención al cliente: +123 456 7890.\n",
        "\n",
        "2. Ofrecer respuestas rápidas y claras a las preguntas frecuentes sobre productos, servicios y procedimientos.\n",
        "\n",
        "3. Derivar consultas específicas a un agente humano si es necesario, especialmente en casos de emergencia o situaciones complejas.\n",
        "\n",
        "4. Asegurarse de que la información proporcionada sea coherente y que los usuarios reciban un trato amable y profesional.\n",
        "\n",
        "5. Recordar detalles y preferencias del cliente cuando sea relevante para mejorar la experiencia del usuario.\n",
        "\n",
        "6. Proporcionar opciones de autoayuda, como enlaces a tutoriales, guías y preguntas frecuentes cuando corresponda.\n",
        "\n",
        "El objetivo es mejorar la experiencia del cliente, ofrecer un servicio eficiente y reducir los tiempos de espera, todo mientras se mantiene la calidad y la cordialidad en las interacciones.\n",
        "\"\"\"\n",
        ")\n"
      ],
      "metadata": {
        "id": "MuGJ4RPjf4A0"
      },
      "execution_count": null,
      "outputs": []
    }
  ]
}